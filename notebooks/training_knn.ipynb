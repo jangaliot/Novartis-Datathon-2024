{
 "cells": [
  {
   "cell_type": "code",
   "execution_count": 9,
   "metadata": {},
   "outputs": [
    {
     "name": "stdout",
     "output_type": "stream",
     "text": [
      "Fitting 5 folds for each of 24 candidates, totalling 120 fits\n",
      "Mejores hiperparámetros: {'colsample_bytree': 0.8, 'learning_rate': 0.1, 'max_depth': 6, 'n_estimators': 100, 'subsample': 1.0}\n",
      "RMSE en el conjunto de prueba con los mejores hiperparámetros: 0.2917\n"
     ]
    }
   ],
   "source": [
    "from sklearn.model_selection import GridSearchCV, KFold\n",
    "import xgboost as xgb\n",
    "import numpy as np\n",
    "from sklearn.metrics import mean_squared_error\n",
    "\n",
    "# Definir el modelo\n",
    "model = xgb.XGBRegressor(objective='reg:squarederror', random_state=42)\n",
    "\n",
    "# Definir el espacio de hiperparámetros para la búsqueda\n",
    "param_grid = {\n",
    "    'n_estimators': [50, 100],\n",
    "    'learning_rate': [0.01, 0.1],\n",
    "    'max_depth': [3, 6],\n",
    "    'subsample': [1.0],\n",
    "    'colsample_bytree': [0.6, 0.8, 1.0]\n",
    "}\n",
    "\n",
    "# Configurar la búsqueda de hiperparámetros con validación cruzada\n",
    "kf = KFold(n_splits=5, random_state=42, shuffle=True)\n",
    "grid_search = GridSearchCV(estimator=model, param_grid=param_grid, cv=kf, scoring='neg_mean_squared_error', verbose=1, n_jobs=-1)\n",
    "\n",
    "# Ejecutar la búsqueda de hiperparámetros\n",
    "grid_search.fit(X_train, y_train)\n",
    "\n",
    "# Obtener los mejores hiperparámetros\n",
    "best_params = grid_search.best_params_\n",
    "print(\"Mejores hiperparámetros:\", best_params)\n",
    "\n",
    "# Entrenar el modelo con los mejores hiperparámetros\n",
    "best_model = xgb.XGBRegressor(**best_params)\n",
    "best_model.fit(X_train, y_train)\n",
    "\n",
    "# Predicción en el conjunto de prueba\n",
    "y_pred_test = best_model.predict(X_test)\n",
    "\n",
    "# Calcular el RMSE en el conjunto de prueba\n",
    "test_rmse = np.sqrt(mean_squared_error(y_test, y_pred_test))\n",
    "print(f\"RMSE en el conjunto de prueba con los mejores hiperparámetros: {test_rmse:.4f}\")\n"
   ]
  },
  {
   "cell_type": "code",
   "execution_count": 7,
   "metadata": {},
   "outputs": [
    {
     "name": "stdout",
     "output_type": "stream",
     "text": [
      "Archivo de predicciones creado: submission.csv\n"
     ]
    }
   ],
   "source": [
    "# Preparar el conjunto de datos de submission\n",
    "submission_data_path = \"../data/processed/submission_data_processed_imputeKnn_scale.csv\"  # Ruta de tu archivo de datos para predicción\n",
    "submission_data = pd.read_csv(submission_data_path)\n",
    "original_submission_data = pd.read_csv(\"../data/raw/submission_data.csv\")\n",
    "\n",
    "# Preprocesar el conjunto de datos de submission\n",
    "# (Realiza las mismas transformaciones que hiciste para el conjunto de entrenamiento)\n",
    "categorical_columns = submission_data.select_dtypes(include=['object']).columns\n",
    "for col in categorical_columns:\n",
    "    if col in label_encoders:  # Usa los label encoders existentes\n",
    "        submission_data[col] = label_encoders[col].fit_transform(submission_data[col].astype(str))\n",
    "submission_data = submission_data.fillna(0)\n",
    "\n",
    "# Seleccionar las características utilizadas para el entrenamiento\n",
    "X_submission = submission_data[features].values\n",
    "\n",
    "# Predicciones con el modelo final\n",
    "original_submission_data['prediction'] = best_model.predict(X_submission)\n",
    "\n",
    "# Formatear el archivo de salida\n",
    "original_submission_data = original_submission_data[['date', 'cluster_nl', 'prediction']]\n",
    "original_submission_data.to_csv(\"../data/processed/submission_data_predictions_imputeKnn_scale_xgboost_hpt.csv\", index=False)\n",
    "\n",
    "print(\"Archivo de predicciones creado: submission.csv\")"
   ]
  },
  {
   "cell_type": "code",
   "execution_count": 8,
   "metadata": {},
   "outputs": [
    {
     "name": "stdout",
     "output_type": "stream",
     "text": [
      "Model saved to ../models/weights/model_imputeKnn_imputeKnn_scale_xgboost_hpt.pkl\n"
     ]
    }
   ],
   "source": [
    "import pickle\n",
    "\n",
    "# Save the model to a file in the models/weights folder\n",
    "model_path = \"../models/weights/model_imputeKnn_imputeKnn_scale_xgboost_hpt.pkl\"\n",
    "with open(model_path, 'wb') as file:\n",
    "    pickle.dump(best_model, file)\n",
    "\n",
    "print(f\"Model saved to {model_path}\")"
   ]
  },
  {
   "cell_type": "code",
   "execution_count": null,
   "metadata": {},
   "outputs": [],
   "source": []
  }
 ],
 "metadata": {
  "kernelspec": {
   "display_name": "tensorflow",
   "language": "python",
   "name": "python3"
  },
  "language_info": {
   "codemirror_mode": {
    "name": "ipython",
    "version": 3
   },
   "file_extension": ".py",
   "mimetype": "text/x-python",
   "name": "python",
   "nbconvert_exporter": "python",
   "pygments_lexer": "ipython3",
   "version": "3.10.13"
  }
 },
 "nbformat": 4,
 "nbformat_minor": 2
}
