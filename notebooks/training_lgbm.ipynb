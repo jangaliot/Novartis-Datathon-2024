{
 "cells": [
  {
   "cell_type": "code",
   "execution_count": 1,
   "metadata": {},
   "outputs": [
    {
     "ename": "ModuleNotFoundError",
     "evalue": "No module named 'lightgbm'",
     "output_type": "error",
     "traceback": [
      "\u001b[0;31m---------------------------------------------------------------------------\u001b[0m",
      "\u001b[0;31mModuleNotFoundError\u001b[0m                       Traceback (most recent call last)",
      "Cell \u001b[0;32mIn[1], line 5\u001b[0m\n\u001b[1;32m      3\u001b[0m \u001b[38;5;28;01mfrom\u001b[39;00m \u001b[38;5;21;01msklearn\u001b[39;00m\u001b[38;5;21;01m.\u001b[39;00m\u001b[38;5;21;01mmodel_selection\u001b[39;00m \u001b[38;5;28;01mimport\u001b[39;00m train_test_split\n\u001b[1;32m      4\u001b[0m \u001b[38;5;28;01mfrom\u001b[39;00m \u001b[38;5;21;01msklearn\u001b[39;00m\u001b[38;5;21;01m.\u001b[39;00m\u001b[38;5;21;01mmetrics\u001b[39;00m \u001b[38;5;28;01mimport\u001b[39;00m mean_squared_error\n\u001b[0;32m----> 5\u001b[0m \u001b[38;5;28;01mimport\u001b[39;00m \u001b[38;5;21;01mlightgbm\u001b[39;00m \u001b[38;5;28;01mas\u001b[39;00m \u001b[38;5;21;01mlgb\u001b[39;00m\n\u001b[1;32m      6\u001b[0m \u001b[38;5;28;01mfrom\u001b[39;00m \u001b[38;5;21;01msklearn\u001b[39;00m\u001b[38;5;21;01m.\u001b[39;00m\u001b[38;5;21;01mpreprocessing\u001b[39;00m \u001b[38;5;28;01mimport\u001b[39;00m LabelEncoder\n\u001b[1;32m      8\u001b[0m \u001b[38;5;66;03m# Cargar el dataset\u001b[39;00m\n",
      "\u001b[0;31mModuleNotFoundError\u001b[0m: No module named 'lightgbm'"
     ]
    }
   ],
   "source": [
    "import pandas as pd\n",
    "import numpy as np\n",
    "from sklearn.model_selection import train_test_split\n",
    "from sklearn.metrics import mean_squared_error\n",
    "import lightgbm as lgb\n",
    "from sklearn.preprocessing import LabelEncoder\n",
    "\n",
    "# Cargar el dataset\n",
    "file_path = \"../data/processed/train_data_processed_imputeKnn_scale.csv\"\n",
    "data = pd.read_csv(file_path)\n",
    "\n",
    "# Inspección inicial\n",
    "print(\"Dimensiones del dataset:\", data.shape)\n",
    "print(data.head())\n",
    "\n",
    "# Identificar la variable objetivo y las características\n",
    "target_col = \"target\"\n",
    "features = [col for col in data.columns if col != target_col]\n",
    "\n",
    "# Preprocesamiento: manejar valores categóricos y nulos\n",
    "# Convertir categorías a valores numéricos\n",
    "label_encoders = {}\n",
    "for col in data.select_dtypes(include=['object']).columns:\n",
    "    if col in features:\n",
    "        le = LabelEncoder()\n",
    "        data[col] = le.fit_transform(data[col].astype(str))\n",
    "        label_encoders[col] = le\n",
    "\n",
    "\n",
    "# Dividir en características (X) y etiqueta (y)\n",
    "X = data[features]\n",
    "y = data[target_col]\n",
    "\n",
    "# Dividir en conjuntos de entrenamiento y prueba\n",
    "X_train, X_test, y_train, y_test = train_test_split(X, y, test_size=0.2, random_state=42)\n",
    "\n",
    "print(\"Conjunto de entrenamiento:\", X_train.shape)\n",
    "print(\"Conjunto de prueba:\", X_test.shape)\n",
    "\n",
    "# Parámetros mejorados para LightGBM\n",
    "params = {\n",
    "    \"objective\": \"regression\",\n",
    "    \"metric\": \"rmse\",\n",
    "    \"boosting_type\": \"gbdt\",\n",
    "    \"learning_rate\": 0.05,\n",
    "    \"num_leaves\": 31,\n",
    "    \"max_depth\": -1,\n",
    "    \"lambda_l1\": 0.1,\n",
    "    \"lambda_l2\": 0.2,\n",
    "    \"feature_fraction\": 0.8,\n",
    "    \"bagging_fraction\": 0.8,\n",
    "    \"bagging_freq\": 5,\n",
    "    \"verbosity\": -1,\n",
    "    \"seed\": 42,\n",
    "}\n",
    "\n",
    "# Convertir X y y a arreglos NumPy\n",
    "X_array = X.values\n",
    "y_array = y.values\n",
    "\n",
    "# Implementación de K-Fold Cross-Validation\n",
    "kf = KFold(n_splits=5, shuffle=True, random_state=42)\n",
    "rmse_scores = []\n",
    "\n",
    "for fold, (train_index, val_index) in enumerate(kf.split(X_array)):\n",
    "    print(f\"Fold {fold + 1}\")\n",
    "    \n",
    "    X_train, X_val = X_array[train_index], X_array[val_index]\n",
    "    y_train, y_val = y_array[train_index], y_array[val_index]\n",
    "    \n",
    "    lgb_train = lgb.Dataset(X_train, y_train)\n",
    "    lgb_val = lgb.Dataset(X_val, y_val, reference=lgb_train)\n",
    "    \n",
    "    model = lgb.train(\n",
    "        params,\n",
    "        lgb_train,\n",
    "        valid_sets=[lgb_train, lgb_val],\n",
    "        num_boost_round=5000,\n",
    "        #feval=metric_novartis\n",
    "    )\n",
    "    \n",
    "    # Predicción en el conjunto de validación\n",
    "    y_pred = model.predict(X_val, num_iteration=model.best_iteration)\n",
    "    rmse = np.sqrt(mean_squared_error(y_val, y_pred))\n",
    "    rmse_scores.append(rmse)\n",
    "    print(f\"Fold {fold + 1} RMSE: {rmse:.4f}\")\n",
    "\n",
    "# Calcular RMSE promedio\n",
    "mean_rmse = np.mean(rmse_scores)\n",
    "print(f\"RMSE promedio después de Cross-Validation: {mean_rmse:.4f}\")"
   ]
  },
  {
   "cell_type": "code",
   "execution_count": 26,
   "metadata": {},
   "outputs": [
    {
     "name": "stdout",
     "output_type": "stream",
     "text": [
      "Archivo de predicciones creado: submission.csv\n"
     ]
    }
   ],
   "source": [
    "# Preparar el conjunto de datos de submission\n",
    "submission_data_path = \"../data/processed/submission_data_processed_imputeKnn_scale.csv\"  # Ruta de tu archivo de datos para predicción\n",
    "submission_data = pd.read_csv(submission_data_path)\n",
    "original_submission_data = pd.read_csv(\"../data/raw/submission_data.csv\")\n",
    "\n",
    "# Preprocesar el conjunto de datos de submission\n",
    "# (Realiza las mismas transformaciones que hiciste para el conjunto de entrenamiento)\n",
    "categorical_columns = submission_data.select_dtypes(include=['object']).columns\n",
    "for col in categorical_columns:\n",
    "    if col in label_encoders:  # Usa los label encoders existentes\n",
    "        submission_data[col] = label_encoders[col].fit_transform(submission_data[col].astype(str))\n",
    "submission_data = submission_data.fillna(0)\n",
    "\n",
    "# Seleccionar las características utilizadas para el entrenamiento\n",
    "X_submission = submission_data[features].values\n",
    "\n",
    "# Predicciones con el modelo final\n",
    "original_submission_data['prediction'] = model.predict(X_submission)\n",
    "\n",
    "# Formatear el archivo de salida\n",
    "original_submission_data = original_submission_data[['date', 'cluster_nl', 'prediction']]\n",
    "original_submission_data.to_csv(\"../data/processed/submission_data_predictions_imputeKnn_scale.csv\", index=False)\n",
    "\n",
    "print(\"Archivo de predicciones creado: submission.csv\")"
   ]
  },
  {
   "cell_type": "code",
   "execution_count": 27,
   "metadata": {},
   "outputs": [
    {
     "name": "stdout",
     "output_type": "stream",
     "text": [
      "Model saved to ../models/weights/model_imputeKnn_imputeKnn_scale.pkl\n"
     ]
    }
   ],
   "source": [
    "import pickle\n",
    "\n",
    "# Save the model to a file in the models/weights folder\n",
    "model_path = \"../models/weights/model_imputeKnn_imputeKnn_scale.pkl\"\n",
    "with open(model_path, 'wb') as file:\n",
    "    pickle.dump(model, file)\n",
    "\n",
    "print(f\"Model saved to {model_path}\")"
   ]
  },
  {
   "cell_type": "code",
   "execution_count": null,
   "metadata": {},
   "outputs": [],
   "source": []
  }
 ],
 "metadata": {
  "kernelspec": {
   "display_name": "Python 3",
   "language": "python",
   "name": "python3"
  },
  "language_info": {
   "codemirror_mode": {
    "name": "ipython",
    "version": 3
   },
   "file_extension": ".py",
   "mimetype": "text/x-python",
   "name": "python",
   "nbconvert_exporter": "python",
   "pygments_lexer": "ipython3",
   "version": "3.13.0"
  }
 },
 "nbformat": 4,
 "nbformat_minor": 2
}
